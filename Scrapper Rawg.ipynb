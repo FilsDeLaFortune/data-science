{
 "cells": [
  {
   "cell_type": "code",
   "execution_count": 1,
   "id": "88db0821",
   "metadata": {},
   "outputs": [],
   "source": [
    "import requests \n",
    "from bs4 import BeautifulSoup\n",
    "import pandas as pd\n",
    "from tqdm.notebook import trange, tqdm\n",
    "import concurrent.futures as cf\n",
    "import time\n",
    "import json"
   ]
  },
  {
   "cell_type": "code",
   "execution_count": 2,
   "id": "beaadf76",
   "metadata": {},
   "outputs": [],
   "source": [
    "r = []"
   ]
  },
  {
   "cell_type": "code",
   "execution_count": 3,
   "id": "89cb4950",
   "metadata": {},
   "outputs": [],
   "source": [
    "#page 9161 pour quelques jeux manquants\n",
    "def req(i):\n",
    "    headers={'User-Agent': 'Mozilla/5.0 (Macintosh; Intel Mac OS X 10_11_4) AppleWebKit/537.36 (KHTML, like Gecko) Chrome/51.0.2704.103 Safari/537.36'}\n",
    "    url = f\"https://api.rawg.io/api/games?key=62015356d5514b0c9cac8884f64d643a&page_size=40&page={i}&ordering=released\"\n",
    "    x = requests.get(url,headers=headers)\n",
    "    print(x)\n",
    "    print(i)\n",
    "    while(x.status_code != 200):\n",
    "        print(\"Problème, on recommence\")\n",
    "        x = requests.get(url,headers=headers)\n",
    "        print(x)\n",
    "        print(i)\n",
    "    t = x.json()[\"results\"]\n",
    "    r.append(t)"
   ]
  },
  {
   "cell_type": "code",
   "execution_count": 4,
   "id": "1f966bd7",
   "metadata": {
    "scrolled": true
   },
   "outputs": [
    {
     "name": "stdout",
     "output_type": "stream",
     "text": [
      "<Response [200]>\n",
      "20005\n",
      "<Response [200]>\n",
      "20009\n",
      "<Response [200]>\n",
      "20004\n",
      "<Response [200]>\n",
      "20006\n",
      "<Response [200]>\n",
      "20003\n",
      "<Response [200]>\n",
      "20002\n",
      "<Response [200]>\n",
      "20007\n",
      "<Response [200]>\n",
      "20008\n",
      "<Response [200]>\n",
      "20001\n"
     ]
    }
   ],
   "source": [
    "nb = list(range(20001, 20010))\n",
    "with cf.ThreadPoolExecutor(max_workers=10) as executor:\n",
    "    executor.map(req,nb)"
   ]
  },
  {
   "cell_type": "code",
   "execution_count": 5,
   "id": "9c47c1ec",
   "metadata": {},
   "outputs": [
    {
     "data": {
      "text/plain": [
       "9"
      ]
     },
     "execution_count": 5,
     "metadata": {},
     "output_type": "execute_result"
    }
   ],
   "source": [
    "len(r)"
   ]
  },
  {
   "cell_type": "code",
   "execution_count": 6,
   "id": "81e1a55d",
   "metadata": {},
   "outputs": [],
   "source": [
    "r2 = []"
   ]
  },
  {
   "cell_type": "code",
   "execution_count": 7,
   "id": "3ccad1ea",
   "metadata": {},
   "outputs": [],
   "source": [
    "for i in range(len(r)):\n",
    "    for j in range(0,40):\n",
    "        r2.append(r[i][j])"
   ]
  },
  {
   "cell_type": "code",
   "execution_count": 8,
   "id": "a16032db",
   "metadata": {},
   "outputs": [
    {
     "data": {
      "text/plain": [
       "360"
      ]
     },
     "execution_count": 8,
     "metadata": {},
     "output_type": "execute_result"
    }
   ],
   "source": [
    "len(r2)"
   ]
  },
  {
   "cell_type": "code",
   "execution_count": 11,
   "id": "ee651121",
   "metadata": {},
   "outputs": [
    {
     "data": {
      "text/plain": [
       "{'id': 855709,\n",
       " 'slug': 'game-pilah-cari-tangkap-sampah',\n",
       " 'name': 'Game Pilah, Cari & Tangkap Sampah',\n",
       " 'released': '2022-09-20',\n",
       " 'tba': False,\n",
       " 'background_image': 'https://media.rawg.io/media/screenshots/974/974d3b64b83b5f65dc03427ca791faba.jpg',\n",
       " 'rating': 0.0,\n",
       " 'rating_top': 0,\n",
       " 'ratings': [],\n",
       " 'ratings_count': 0,\n",
       " 'reviews_text_count': 0,\n",
       " 'added': 0,\n",
       " 'added_by_status': None,\n",
       " 'metacritic': None,\n",
       " 'playtime': 0,\n",
       " 'suggestions_count': 59,\n",
       " 'updated': '2022-09-23T15:54:30',\n",
       " 'user_game': None,\n",
       " 'reviews_count': 0,\n",
       " 'community_rating': 0,\n",
       " 'saturated_color': '0f0f0f',\n",
       " 'dominant_color': '0f0f0f',\n",
       " 'platforms': [{'platform': {'id': 171,\n",
       "    'name': 'Web',\n",
       "    'slug': 'web',\n",
       "    'image': None,\n",
       "    'year_end': None,\n",
       "    'year_start': None,\n",
       "    'games_count': 248604,\n",
       "    'image_background': 'https://media.rawg.io/media/screenshots/6aa/6aa8cfccfa7f8d7acbe1a6e24dfb45dd.jpeg'},\n",
       "   'released_at': '2022-09-20',\n",
       "   'requirements_en': None,\n",
       "   'requirements_ru': None},\n",
       "  {'platform': {'id': 4,\n",
       "    'name': 'PC',\n",
       "    'slug': 'pc',\n",
       "    'image': None,\n",
       "    'year_end': None,\n",
       "    'year_start': None,\n",
       "    'games_count': 503848,\n",
       "    'image_background': 'https://media.rawg.io/media/games/46d/46d98e6910fbc0706e2948a7cc9b10c5.jpg'},\n",
       "   'released_at': '2022-09-20',\n",
       "   'requirements_en': None,\n",
       "   'requirements_ru': None}],\n",
       " 'parent_platforms': [{'platform': {'id': 1, 'name': 'PC', 'slug': 'pc'}},\n",
       "  {'platform': {'id': 14, 'name': 'Web', 'slug': 'web'}}],\n",
       " 'genres': [{'id': 34,\n",
       "   'name': 'Educational',\n",
       "   'slug': 'educational',\n",
       "   'games_count': 15105,\n",
       "   'image_background': 'https://media.rawg.io/media/screenshots/096/09627345aa95f0636ea89d326e6ea17c.jpg'}],\n",
       " 'stores': [{'id': 852989,\n",
       "   'store': {'id': 9,\n",
       "    'name': 'itch.io',\n",
       "    'slug': 'itch',\n",
       "    'domain': 'itch.io',\n",
       "    'games_count': 643045,\n",
       "    'image_background': 'https://media.rawg.io/media/games/177/1775aacedb915b0e0880476530dc87b4.jpg'}}],\n",
       " 'clip': None,\n",
       " 'tags': [{'id': 569,\n",
       "   'name': 'Minigames',\n",
       "   'slug': 'minigames',\n",
       "   'language': 'eng',\n",
       "   'games_count': 5487,\n",
       "   'image_background': 'https://media.rawg.io/media/screenshots/354/3547cd68b0233277d03cf05e78bf6239.jpg'}],\n",
       " 'esrb_rating': None,\n",
       " 'short_screenshots': [{'id': -1,\n",
       "   'image': 'https://media.rawg.io/media/screenshots/974/974d3b64b83b5f65dc03427ca791faba.jpg'},\n",
       "  {'id': 3579731,\n",
       "   'image': 'https://media.rawg.io/media/screenshots/7a5/7a596f58ba90cd3952e60107db6e8249.jpg'},\n",
       "  {'id': 3579732,\n",
       "   'image': 'https://media.rawg.io/media/screenshots/f0e/f0e3d8dfb6f8973040106339338b2712.jpg'},\n",
       "  {'id': 3579733,\n",
       "   'image': 'https://media.rawg.io/media/screenshots/dfe/dfe9e91596e05d72776e7d32694050fd.jpg'},\n",
       "  {'id': 3579734,\n",
       "   'image': 'https://media.rawg.io/media/screenshots/9b5/9b5326526fe4362bcb382909c4c2157a.jpg'},\n",
       "  {'id': 3579735,\n",
       "   'image': 'https://media.rawg.io/media/screenshots/974/974d3b64b83b5f65dc03427ca791faba.jpg'}]}"
      ]
     },
     "execution_count": 11,
     "metadata": {},
     "output_type": "execute_result"
    }
   ],
   "source": [
    "r2[0]"
   ]
  },
  {
   "cell_type": "code",
   "execution_count": 65,
   "id": "a1173578",
   "metadata": {},
   "outputs": [],
   "source": [
    "r_json = json.dumps(r2)"
   ]
  },
  {
   "cell_type": "code",
   "execution_count": 66,
   "id": "1d8990f4",
   "metadata": {},
   "outputs": [
    {
     "data": {
      "text/plain": [
       "108955188"
      ]
     },
     "execution_count": 66,
     "metadata": {},
     "output_type": "execute_result"
    }
   ],
   "source": [
    "len(r_json)"
   ]
  },
  {
   "cell_type": "code",
   "execution_count": 67,
   "id": "9451be34",
   "metadata": {},
   "outputs": [],
   "source": [
    "with open(\"data/videogames7.json\", \"w\") as outfile:\n",
    "    outfile.write(r_json)"
   ]
  },
  {
   "cell_type": "code",
   "execution_count": 50,
   "id": "ec217b24",
   "metadata": {},
   "outputs": [],
   "source": [
    "r=[]"
   ]
  },
  {
   "cell_type": "code",
   "execution_count": 51,
   "id": "785d30d3",
   "metadata": {},
   "outputs": [],
   "source": [
    "def req_search(i):\n",
    "    headers={'User-Agent': 'Mozilla/5.0 (Macintosh; Intel Mac OS X 10_11_4) AppleWebKit/537.36 (KHTML, like Gecko) Chrome/51.0.2704.103 Safari/537.36'}\n",
    "    url = f\"https://api.rawg.io/api/games?key=62015356d5514b0c9cac8884f64d643a&page_size=40&ordering=released&search={i}&search_exact=True\"\n",
    "    x = requests.get(url,headers=headers)\n",
    "    print(x)\n",
    "    print(i)\n",
    "    if(x.status_code != 200):\n",
    "        print(\"Problème\")\n",
    "    t = x.json()[\"results\"]\n",
    "    r.append(t)"
   ]
  },
  {
   "cell_type": "code",
   "execution_count": null,
   "id": "505942ad",
   "metadata": {},
   "outputs": [],
   "source": []
  },
  {
   "cell_type": "code",
   "execution_count": 52,
   "id": "2d46ea50",
   "metadata": {},
   "outputs": [
    {
     "name": "stdout",
     "output_type": "stream",
     "text": [
      "<Response [200]>\n",
      "BPM: Bullets Per Minute\n"
     ]
    }
   ],
   "source": [
    "req_search('BPM: Bullets Per Minute')"
   ]
  },
  {
   "cell_type": "code",
   "execution_count": 53,
   "id": "2cf6df91",
   "metadata": {},
   "outputs": [
    {
     "name": "stdout",
     "output_type": "stream",
     "text": [
      "bpm-bullets-per-minute\n"
     ]
    },
    {
     "ename": "IndexError",
     "evalue": "list index out of range",
     "output_type": "error",
     "traceback": [
      "\u001b[1;31m---------------------------------------------------------------------------\u001b[0m",
      "\u001b[1;31mIndexError\u001b[0m                                Traceback (most recent call last)",
      "\u001b[1;32m~\\AppData\\Local\\Temp\\ipykernel_19088\\3208067068.py\u001b[0m in \u001b[0;36m<module>\u001b[1;34m\u001b[0m\n\u001b[0;32m      1\u001b[0m \u001b[1;32mfor\u001b[0m \u001b[0mi\u001b[0m \u001b[1;32min\u001b[0m \u001b[0mrange\u001b[0m\u001b[1;33m(\u001b[0m\u001b[1;36m0\u001b[0m\u001b[1;33m,\u001b[0m\u001b[1;36m41\u001b[0m\u001b[1;33m)\u001b[0m\u001b[1;33m:\u001b[0m\u001b[1;33m\u001b[0m\u001b[1;33m\u001b[0m\u001b[0m\n\u001b[1;32m----> 2\u001b[1;33m     \u001b[0mprint\u001b[0m\u001b[1;33m(\u001b[0m\u001b[0mr\u001b[0m\u001b[1;33m[\u001b[0m\u001b[1;36m0\u001b[0m\u001b[1;33m]\u001b[0m\u001b[1;33m[\u001b[0m\u001b[0mi\u001b[0m\u001b[1;33m]\u001b[0m\u001b[1;33m[\u001b[0m\u001b[1;34m'slug'\u001b[0m\u001b[1;33m]\u001b[0m\u001b[1;33m)\u001b[0m\u001b[1;33m\u001b[0m\u001b[1;33m\u001b[0m\u001b[0m\n\u001b[0m",
      "\u001b[1;31mIndexError\u001b[0m: list index out of range"
     ]
    }
   ],
   "source": [
    "for i in range(0,41):\n",
    "    print(r[0][i]['slug'])"
   ]
  },
  {
   "cell_type": "code",
   "execution_count": 48,
   "id": "49433fd0",
   "metadata": {},
   "outputs": [
    {
     "data": {
      "text/plain": [
       "40"
      ]
     },
     "execution_count": 48,
     "metadata": {},
     "output_type": "execute_result"
    }
   ],
   "source": [
    "len(r[0])"
   ]
  },
  {
   "cell_type": "code",
   "execution_count": null,
   "id": "07579cfd",
   "metadata": {},
   "outputs": [],
   "source": []
  }
 ],
 "metadata": {
  "kernelspec": {
   "display_name": "Python 3 (ipykernel)",
   "language": "python",
   "name": "python3"
  },
  "language_info": {
   "codemirror_mode": {
    "name": "ipython",
    "version": 3
   },
   "file_extension": ".py",
   "mimetype": "text/x-python",
   "name": "python",
   "nbconvert_exporter": "python",
   "pygments_lexer": "ipython3",
   "version": "3.7.4"
  }
 },
 "nbformat": 4,
 "nbformat_minor": 5
}
